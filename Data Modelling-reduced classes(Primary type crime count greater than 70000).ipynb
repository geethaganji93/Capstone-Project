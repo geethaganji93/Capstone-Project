{
 "cells": [
  {
   "cell_type": "code",
   "execution_count": 1,
   "metadata": {},
   "outputs": [
    {
     "name": "stdout",
     "output_type": "stream",
     "text": [
      "Index(['ID', 'Case Number', 'Date', 'Block', 'IUCR', 'Primary Type',\n",
      "       'Description', 'Location Description', 'Arrest', 'Domestic', 'Beat',\n",
      "       'District', 'Ward', 'Community Area', 'FBI Code', 'X Coordinate',\n",
      "       'Y Coordinate', 'Year', 'Updated On', 'Latitude', 'Longitude',\n",
      "       'Location'],\n",
      "      dtype='object')\n"
     ]
    },
    {
     "data": {
      "text/html": [
       "<div>\n",
       "<style scoped>\n",
       "    .dataframe tbody tr th:only-of-type {\n",
       "        vertical-align: middle;\n",
       "    }\n",
       "\n",
       "    .dataframe tbody tr th {\n",
       "        vertical-align: top;\n",
       "    }\n",
       "\n",
       "    .dataframe thead th {\n",
       "        text-align: right;\n",
       "    }\n",
       "</style>\n",
       "<table border=\"1\" class=\"dataframe\">\n",
       "  <thead>\n",
       "    <tr style=\"text-align: right;\">\n",
       "      <th></th>\n",
       "      <th>ID</th>\n",
       "      <th>Case Number</th>\n",
       "      <th>Date</th>\n",
       "      <th>Block</th>\n",
       "      <th>IUCR</th>\n",
       "      <th>Primary Type</th>\n",
       "      <th>Description</th>\n",
       "      <th>Location Description</th>\n",
       "      <th>Arrest</th>\n",
       "      <th>Domestic</th>\n",
       "      <th>...</th>\n",
       "      <th>Ward</th>\n",
       "      <th>Community Area</th>\n",
       "      <th>FBI Code</th>\n",
       "      <th>X Coordinate</th>\n",
       "      <th>Y Coordinate</th>\n",
       "      <th>Year</th>\n",
       "      <th>Updated On</th>\n",
       "      <th>Latitude</th>\n",
       "      <th>Longitude</th>\n",
       "      <th>Location</th>\n",
       "    </tr>\n",
       "  </thead>\n",
       "  <tbody>\n",
       "    <tr>\n",
       "      <th>0</th>\n",
       "      <td>4930918</td>\n",
       "      <td>HM544061</td>\n",
       "      <td>08/16/2006 03:55:00 PM</td>\n",
       "      <td>006XX W SHERIDAN RD</td>\n",
       "      <td>0620</td>\n",
       "      <td>BURGLARY</td>\n",
       "      <td>UNLAWFUL ENTRY</td>\n",
       "      <td>APARTMENT</td>\n",
       "      <td>True</td>\n",
       "      <td>False</td>\n",
       "      <td>...</td>\n",
       "      <td>46.0</td>\n",
       "      <td>6.0</td>\n",
       "      <td>05</td>\n",
       "      <td>1171089.0</td>\n",
       "      <td>1926189.0</td>\n",
       "      <td>2006</td>\n",
       "      <td>02/28/2018 03:56:25 PM</td>\n",
       "      <td>41.952937</td>\n",
       "      <td>-87.646460</td>\n",
       "      <td>(41.952937476, -87.646459694)</td>\n",
       "    </tr>\n",
       "    <tr>\n",
       "      <th>1</th>\n",
       "      <td>4930924</td>\n",
       "      <td>HM545898</td>\n",
       "      <td>08/17/2006 12:00:00 AM</td>\n",
       "      <td>053XX N CUMBERLAND AVE</td>\n",
       "      <td>2825</td>\n",
       "      <td>OTHER OFFENSE</td>\n",
       "      <td>HARASSMENT BY TELEPHONE</td>\n",
       "      <td>APARTMENT</td>\n",
       "      <td>False</td>\n",
       "      <td>False</td>\n",
       "      <td>...</td>\n",
       "      <td>41.0</td>\n",
       "      <td>76.0</td>\n",
       "      <td>26</td>\n",
       "      <td>1119313.0</td>\n",
       "      <td>1934228.0</td>\n",
       "      <td>2006</td>\n",
       "      <td>02/28/2018 03:56:25 PM</td>\n",
       "      <td>41.975978</td>\n",
       "      <td>-87.836624</td>\n",
       "      <td>(41.975978414, -87.83662354)</td>\n",
       "    </tr>\n",
       "    <tr>\n",
       "      <th>2</th>\n",
       "      <td>4930927</td>\n",
       "      <td>HM545908</td>\n",
       "      <td>08/17/2006 03:00:00 PM</td>\n",
       "      <td>021XX N CANNON DR</td>\n",
       "      <td>0810</td>\n",
       "      <td>THEFT</td>\n",
       "      <td>OVER $500</td>\n",
       "      <td>OTHER</td>\n",
       "      <td>False</td>\n",
       "      <td>False</td>\n",
       "      <td>...</td>\n",
       "      <td>43.0</td>\n",
       "      <td>7.0</td>\n",
       "      <td>06</td>\n",
       "      <td>1175179.0</td>\n",
       "      <td>1914632.0</td>\n",
       "      <td>2006</td>\n",
       "      <td>02/28/2018 03:56:25 PM</td>\n",
       "      <td>41.921134</td>\n",
       "      <td>-87.631772</td>\n",
       "      <td>(41.92113376, -87.631772431)</td>\n",
       "    </tr>\n",
       "  </tbody>\n",
       "</table>\n",
       "<p>3 rows × 22 columns</p>\n",
       "</div>"
      ],
      "text/plain": [
       "        ID Case Number                    Date                   Block  IUCR  \\\n",
       "0  4930918    HM544061  08/16/2006 03:55:00 PM     006XX W SHERIDAN RD  0620   \n",
       "1  4930924    HM545898  08/17/2006 12:00:00 AM  053XX N CUMBERLAND AVE  2825   \n",
       "2  4930927    HM545908  08/17/2006 03:00:00 PM       021XX N CANNON DR  0810   \n",
       "\n",
       "    Primary Type              Description Location Description  Arrest  \\\n",
       "0       BURGLARY           UNLAWFUL ENTRY            APARTMENT    True   \n",
       "1  OTHER OFFENSE  HARASSMENT BY TELEPHONE            APARTMENT   False   \n",
       "2          THEFT                OVER $500                OTHER   False   \n",
       "\n",
       "   Domestic              ...                Ward  Community Area  FBI Code  \\\n",
       "0     False              ...                46.0             6.0        05   \n",
       "1     False              ...                41.0            76.0        26   \n",
       "2     False              ...                43.0             7.0        06   \n",
       "\n",
       "   X Coordinate Y Coordinate  Year              Updated On   Latitude  \\\n",
       "0     1171089.0    1926189.0  2006  02/28/2018 03:56:25 PM  41.952937   \n",
       "1     1119313.0    1934228.0  2006  02/28/2018 03:56:25 PM  41.975978   \n",
       "2     1175179.0    1914632.0  2006  02/28/2018 03:56:25 PM  41.921134   \n",
       "\n",
       "   Longitude                       Location  \n",
       "0 -87.646460  (41.952937476, -87.646459694)  \n",
       "1 -87.836624   (41.975978414, -87.83662354)  \n",
       "2 -87.631772   (41.92113376, -87.631772431)  \n",
       "\n",
       "[3 rows x 22 columns]"
      ]
     },
     "execution_count": 1,
     "metadata": {},
     "output_type": "execute_result"
    }
   ],
   "source": [
    "#Data Loading\n",
    "import pandas as pd\n",
    "import seaborn as sns\n",
    "import matplotlib.pyplot as plt\n",
    "import numpy as np\n",
    "\n",
    "# loading the crimes data\n",
    "data = pd.read_csv(\"Crimes_-_2001_to_present.csv\")\n",
    "# columns in the dataset\n",
    "print(data.columns)\n",
    "data.head(3)"
   ]
  },
  {
   "cell_type": "code",
   "execution_count": 2,
   "metadata": {},
   "outputs": [],
   "source": [
    "#Filtering years from 2007 to 2018\n",
    "years = [2015,2016,2017,2018]\n",
    "crimes = data[data.Year.isin(years)]"
   ]
  },
  {
   "cell_type": "code",
   "execution_count": 3,
   "metadata": {},
   "outputs": [
    {
     "data": {
      "text/html": [
       "<div>\n",
       "<style scoped>\n",
       "    .dataframe tbody tr th:only-of-type {\n",
       "        vertical-align: middle;\n",
       "    }\n",
       "\n",
       "    .dataframe tbody tr th {\n",
       "        vertical-align: top;\n",
       "    }\n",
       "\n",
       "    .dataframe thead th {\n",
       "        text-align: right;\n",
       "    }\n",
       "</style>\n",
       "<table border=\"1\" class=\"dataframe\">\n",
       "  <thead>\n",
       "    <tr style=\"text-align: right;\">\n",
       "      <th></th>\n",
       "      <th>Primary_Type</th>\n",
       "      <th>Count of Crimes</th>\n",
       "    </tr>\n",
       "  </thead>\n",
       "  <tbody>\n",
       "    <tr>\n",
       "      <th>0</th>\n",
       "      <td>THEFT</td>\n",
       "      <td>248299</td>\n",
       "    </tr>\n",
       "    <tr>\n",
       "      <th>1</th>\n",
       "      <td>BATTERY</td>\n",
       "      <td>198207</td>\n",
       "    </tr>\n",
       "    <tr>\n",
       "      <th>2</th>\n",
       "      <td>CRIMINAL DAMAGE</td>\n",
       "      <td>116532</td>\n",
       "    </tr>\n",
       "    <tr>\n",
       "      <th>3</th>\n",
       "      <td>ASSAULT</td>\n",
       "      <td>75461</td>\n",
       "    </tr>\n",
       "    <tr>\n",
       "      <th>4</th>\n",
       "      <td>DECEPTIVE PRACTICE</td>\n",
       "      <td>72329</td>\n",
       "    </tr>\n",
       "  </tbody>\n",
       "</table>\n",
       "</div>"
      ],
      "text/plain": [
       "         Primary_Type Count of Crimes\n",
       "0               THEFT          248299\n",
       "1             BATTERY          198207\n",
       "2     CRIMINAL DAMAGE          116532\n",
       "3             ASSAULT           75461\n",
       "4  DECEPTIVE PRACTICE           72329"
      ]
     },
     "execution_count": 3,
     "metadata": {},
     "output_type": "execute_result"
    }
   ],
   "source": [
    "#Crimes count basing on Crime type\n",
    "crime_count = pd.DataFrame(crimes.groupby('Primary Type').size().sort_values(ascending=False).rename('Count of Crimes').reset_index())\n",
    "\n",
    "#crime type having count>=50000\n",
    "prim_type = pd.DataFrame(crime_count.values[crime_count['Count of Crimes'] >= 70000]) \n",
    "prim_type.columns = ['Primary_Type','Count of Crimes']\n",
    "prim_type"
   ]
  },
  {
   "cell_type": "code",
   "execution_count": 4,
   "metadata": {},
   "outputs": [],
   "source": [
    "#filtering crime types having count>=10000 \n",
    "primary_type = prim_type.Primary_Type\n",
    "crimes=crimes[crimes['Primary Type'].isin(primary_type)]"
   ]
  },
  {
   "cell_type": "code",
   "execution_count": 5,
   "metadata": {},
   "outputs": [
    {
     "data": {
      "text/html": [
       "<div>\n",
       "<style scoped>\n",
       "    .dataframe tbody tr th:only-of-type {\n",
       "        vertical-align: middle;\n",
       "    }\n",
       "\n",
       "    .dataframe tbody tr th {\n",
       "        vertical-align: top;\n",
       "    }\n",
       "\n",
       "    .dataframe thead th {\n",
       "        text-align: right;\n",
       "    }\n",
       "</style>\n",
       "<table border=\"1\" class=\"dataframe\">\n",
       "  <thead>\n",
       "    <tr style=\"text-align: right;\">\n",
       "      <th></th>\n",
       "      <th>ID</th>\n",
       "      <th>Case Number</th>\n",
       "      <th>Date</th>\n",
       "      <th>Block</th>\n",
       "      <th>IUCR</th>\n",
       "      <th>Primary Type</th>\n",
       "      <th>Description</th>\n",
       "      <th>Location Description</th>\n",
       "      <th>Arrest</th>\n",
       "      <th>Domestic</th>\n",
       "      <th>...</th>\n",
       "      <th>Ward</th>\n",
       "      <th>Community Area</th>\n",
       "      <th>FBI Code</th>\n",
       "      <th>X Coordinate</th>\n",
       "      <th>Y Coordinate</th>\n",
       "      <th>Year</th>\n",
       "      <th>Updated On</th>\n",
       "      <th>Latitude</th>\n",
       "      <th>Longitude</th>\n",
       "      <th>Location</th>\n",
       "    </tr>\n",
       "  </thead>\n",
       "  <tbody>\n",
       "    <tr>\n",
       "      <th>1115329</th>\n",
       "      <td>11207956</td>\n",
       "      <td>JB120346</td>\n",
       "      <td>01/18/2018 09:35:00 AM</td>\n",
       "      <td>076XX S VINCENNES AVE</td>\n",
       "      <td>0486</td>\n",
       "      <td>BATTERY</td>\n",
       "      <td>DOMESTIC BATTERY SIMPLE</td>\n",
       "      <td>STREET</td>\n",
       "      <td>True</td>\n",
       "      <td>False</td>\n",
       "      <td>...</td>\n",
       "      <td>17.0</td>\n",
       "      <td>69.0</td>\n",
       "      <td>08B</td>\n",
       "      <td>1175515.0</td>\n",
       "      <td>1854490.0</td>\n",
       "      <td>2018</td>\n",
       "      <td>05/04/2018 03:51:04 PM</td>\n",
       "      <td>41.756092</td>\n",
       "      <td>-87.632341</td>\n",
       "      <td>(41.756091788, -87.632341337)</td>\n",
       "    </tr>\n",
       "    <tr>\n",
       "      <th>1115337</th>\n",
       "      <td>11236141</td>\n",
       "      <td>JB159579</td>\n",
       "      <td>02/21/2018 12:15:00 AM</td>\n",
       "      <td>044XX S DR MARTIN LUTHER KING JR DR</td>\n",
       "      <td>1310</td>\n",
       "      <td>CRIMINAL DAMAGE</td>\n",
       "      <td>TO PROPERTY</td>\n",
       "      <td>RESIDENCE</td>\n",
       "      <td>False</td>\n",
       "      <td>False</td>\n",
       "      <td>...</td>\n",
       "      <td>3.0</td>\n",
       "      <td>38.0</td>\n",
       "      <td>14</td>\n",
       "      <td>1179600.0</td>\n",
       "      <td>1875687.0</td>\n",
       "      <td>2018</td>\n",
       "      <td>05/04/2018 03:51:04 PM</td>\n",
       "      <td>41.814166</td>\n",
       "      <td>-87.616723</td>\n",
       "      <td>(41.814166087, -87.616723368)</td>\n",
       "    </tr>\n",
       "    <tr>\n",
       "      <th>1115338</th>\n",
       "      <td>11236178</td>\n",
       "      <td>JB159602</td>\n",
       "      <td>02/21/2018 12:40:00 AM</td>\n",
       "      <td>037XX W ADDISON ST</td>\n",
       "      <td>041A</td>\n",
       "      <td>BATTERY</td>\n",
       "      <td>AGGRAVATED: HANDGUN</td>\n",
       "      <td>STREET</td>\n",
       "      <td>False</td>\n",
       "      <td>False</td>\n",
       "      <td>...</td>\n",
       "      <td>30.0</td>\n",
       "      <td>16.0</td>\n",
       "      <td>04B</td>\n",
       "      <td>1150919.0</td>\n",
       "      <td>1923677.0</td>\n",
       "      <td>2018</td>\n",
       "      <td>05/04/2018 03:51:04 PM</td>\n",
       "      <td>41.946464</td>\n",
       "      <td>-87.720672</td>\n",
       "      <td>(41.946464013, -87.720672053)</td>\n",
       "    </tr>\n",
       "    <tr>\n",
       "      <th>1115342</th>\n",
       "      <td>11236335</td>\n",
       "      <td>JB159893</td>\n",
       "      <td>02/21/2018 08:00:00 AM</td>\n",
       "      <td>072XX S ROCKWELL ST</td>\n",
       "      <td>0820</td>\n",
       "      <td>THEFT</td>\n",
       "      <td>$500 AND UNDER</td>\n",
       "      <td>STREET</td>\n",
       "      <td>False</td>\n",
       "      <td>False</td>\n",
       "      <td>...</td>\n",
       "      <td>18.0</td>\n",
       "      <td>66.0</td>\n",
       "      <td>06</td>\n",
       "      <td>1160291.0</td>\n",
       "      <td>1856647.0</td>\n",
       "      <td>2018</td>\n",
       "      <td>05/04/2018 03:51:04 PM</td>\n",
       "      <td>41.762338</td>\n",
       "      <td>-87.688075</td>\n",
       "      <td>(41.762337776, -87.688074906)</td>\n",
       "    </tr>\n",
       "    <tr>\n",
       "      <th>1115349</th>\n",
       "      <td>9989009</td>\n",
       "      <td>HY179160</td>\n",
       "      <td>03/06/2015 06:45:00 PM</td>\n",
       "      <td>028XX W 63RD ST</td>\n",
       "      <td>0860</td>\n",
       "      <td>THEFT</td>\n",
       "      <td>RETAIL THEFT</td>\n",
       "      <td>OTHER</td>\n",
       "      <td>False</td>\n",
       "      <td>False</td>\n",
       "      <td>...</td>\n",
       "      <td>15.0</td>\n",
       "      <td>66.0</td>\n",
       "      <td>06</td>\n",
       "      <td>1158313.0</td>\n",
       "      <td>1862737.0</td>\n",
       "      <td>2015</td>\n",
       "      <td>02/10/2018 03:50:01 PM</td>\n",
       "      <td>41.779090</td>\n",
       "      <td>-87.695159</td>\n",
       "      <td>(41.779090123, -87.695158983)</td>\n",
       "    </tr>\n",
       "  </tbody>\n",
       "</table>\n",
       "<p>5 rows × 22 columns</p>\n",
       "</div>"
      ],
      "text/plain": [
       "               ID Case Number                    Date  \\\n",
       "1115329  11207956    JB120346  01/18/2018 09:35:00 AM   \n",
       "1115337  11236141    JB159579  02/21/2018 12:15:00 AM   \n",
       "1115338  11236178    JB159602  02/21/2018 12:40:00 AM   \n",
       "1115342  11236335    JB159893  02/21/2018 08:00:00 AM   \n",
       "1115349   9989009    HY179160  03/06/2015 06:45:00 PM   \n",
       "\n",
       "                                       Block  IUCR     Primary Type  \\\n",
       "1115329                076XX S VINCENNES AVE  0486          BATTERY   \n",
       "1115337  044XX S DR MARTIN LUTHER KING JR DR  1310  CRIMINAL DAMAGE   \n",
       "1115338                   037XX W ADDISON ST  041A          BATTERY   \n",
       "1115342                  072XX S ROCKWELL ST  0820            THEFT   \n",
       "1115349                      028XX W 63RD ST  0860            THEFT   \n",
       "\n",
       "                     Description Location Description  Arrest  Domestic  \\\n",
       "1115329  DOMESTIC BATTERY SIMPLE               STREET    True     False   \n",
       "1115337              TO PROPERTY            RESIDENCE   False     False   \n",
       "1115338      AGGRAVATED: HANDGUN               STREET   False     False   \n",
       "1115342           $500 AND UNDER               STREET   False     False   \n",
       "1115349             RETAIL THEFT                OTHER   False     False   \n",
       "\n",
       "                     ...                Ward  Community Area  FBI Code  \\\n",
       "1115329              ...                17.0            69.0       08B   \n",
       "1115337              ...                 3.0            38.0        14   \n",
       "1115338              ...                30.0            16.0       04B   \n",
       "1115342              ...                18.0            66.0        06   \n",
       "1115349              ...                15.0            66.0        06   \n",
       "\n",
       "         X Coordinate Y Coordinate  Year              Updated On   Latitude  \\\n",
       "1115329     1175515.0    1854490.0  2018  05/04/2018 03:51:04 PM  41.756092   \n",
       "1115337     1179600.0    1875687.0  2018  05/04/2018 03:51:04 PM  41.814166   \n",
       "1115338     1150919.0    1923677.0  2018  05/04/2018 03:51:04 PM  41.946464   \n",
       "1115342     1160291.0    1856647.0  2018  05/04/2018 03:51:04 PM  41.762338   \n",
       "1115349     1158313.0    1862737.0  2015  02/10/2018 03:50:01 PM  41.779090   \n",
       "\n",
       "         Longitude                       Location  \n",
       "1115329 -87.632341  (41.756091788, -87.632341337)  \n",
       "1115337 -87.616723  (41.814166087, -87.616723368)  \n",
       "1115338 -87.720672  (41.946464013, -87.720672053)  \n",
       "1115342 -87.688075  (41.762337776, -87.688074906)  \n",
       "1115349 -87.695159  (41.779090123, -87.695158983)  \n",
       "\n",
       "[5 rows x 22 columns]"
      ]
     },
     "execution_count": 5,
     "metadata": {},
     "output_type": "execute_result"
    }
   ],
   "source": [
    "#dataset after filtering done basing on primary type and years\n",
    "crimes.head()"
   ]
  },
  {
   "cell_type": "code",
   "execution_count": 6,
   "metadata": {},
   "outputs": [
    {
     "data": {
      "text/plain": [
       "(710828, 22)"
      ]
     },
     "execution_count": 6,
     "metadata": {},
     "output_type": "execute_result"
    }
   ],
   "source": [
    "#crimes data shape\n",
    "crimes.shape"
   ]
  },
  {
   "cell_type": "code",
   "execution_count": 7,
   "metadata": {},
   "outputs": [
    {
     "data": {
      "text/plain": [
       "Index(['ID', 'Case Number', 'Date', 'Block', 'IUCR', 'Primary Type',\n",
       "       'Description', 'Location Description', 'Arrest', 'Domestic', 'Beat',\n",
       "       'District', 'Ward', 'Community Area', 'FBI Code', 'X Coordinate',\n",
       "       'Y Coordinate', 'Year', 'Updated On', 'Latitude', 'Longitude',\n",
       "       'Location'],\n",
       "      dtype='object')"
      ]
     },
     "execution_count": 7,
     "metadata": {},
     "output_type": "execute_result"
    }
   ],
   "source": [
    "#columns data\n",
    "crimes.columns"
   ]
  },
  {
   "cell_type": "code",
   "execution_count": 8,
   "metadata": {},
   "outputs": [
    {
     "data": {
      "text/plain": [
       "ID                         0\n",
       "Case Number                0\n",
       "Date                       0\n",
       "Block                      0\n",
       "IUCR                       0\n",
       "Primary Type               0\n",
       "Description                0\n",
       "Location Description    3246\n",
       "Arrest                     0\n",
       "Domestic                   0\n",
       "Beat                       0\n",
       "District                   1\n",
       "Ward                       3\n",
       "Community Area             1\n",
       "FBI Code                   0\n",
       "X Coordinate            8188\n",
       "Y Coordinate            8188\n",
       "Year                       0\n",
       "Updated On                 0\n",
       "Latitude                8188\n",
       "Longitude               8188\n",
       "Location                8188\n",
       "dtype: int64"
      ]
     },
     "execution_count": 8,
     "metadata": {},
     "output_type": "execute_result"
    }
   ],
   "source": [
    "#null values count\n",
    "crimes.isna().sum()"
   ]
  },
  {
   "cell_type": "code",
   "execution_count": 9,
   "metadata": {},
   "outputs": [
    {
     "data": {
      "text/plain": [
       "(700279, 22)"
      ]
     },
     "execution_count": 9,
     "metadata": {},
     "output_type": "execute_result"
    }
   ],
   "source": [
    "#dropping null values\n",
    "crimes = crimes.dropna()\n",
    "#checkign after dropping null values\n",
    "crimes.isna().sum()\n",
    "#shape\n",
    "crimes.shape"
   ]
  },
  {
   "cell_type": "code",
   "execution_count": 10,
   "metadata": {},
   "outputs": [],
   "source": [
    "#Deleting unnecessary columns\n",
    "columns = ['Case Number','Block','IUCR','Ward','Community Area','FBI Code','Location','Beat',\n",
    "          'X Coordinate','Y Coordinate']\n",
    "crimes.drop(columns, inplace=True, axis=1)"
   ]
  },
  {
   "cell_type": "code",
   "execution_count": 11,
   "metadata": {},
   "outputs": [
    {
     "data": {
      "text/html": [
       "<div>\n",
       "<style scoped>\n",
       "    .dataframe tbody tr th:only-of-type {\n",
       "        vertical-align: middle;\n",
       "    }\n",
       "\n",
       "    .dataframe tbody tr th {\n",
       "        vertical-align: top;\n",
       "    }\n",
       "\n",
       "    .dataframe thead th {\n",
       "        text-align: right;\n",
       "    }\n",
       "</style>\n",
       "<table border=\"1\" class=\"dataframe\">\n",
       "  <thead>\n",
       "    <tr style=\"text-align: right;\">\n",
       "      <th></th>\n",
       "      <th>ID</th>\n",
       "      <th>Date</th>\n",
       "      <th>Primary Type</th>\n",
       "      <th>Description</th>\n",
       "      <th>Location Description</th>\n",
       "      <th>Arrest</th>\n",
       "      <th>Domestic</th>\n",
       "      <th>District</th>\n",
       "      <th>Year</th>\n",
       "      <th>Updated On</th>\n",
       "      <th>Latitude</th>\n",
       "      <th>Longitude</th>\n",
       "    </tr>\n",
       "  </thead>\n",
       "  <tbody>\n",
       "    <tr>\n",
       "      <th>1115329</th>\n",
       "      <td>11207956</td>\n",
       "      <td>01/18/2018 09:35:00 AM</td>\n",
       "      <td>BATTERY</td>\n",
       "      <td>DOMESTIC BATTERY SIMPLE</td>\n",
       "      <td>STREET</td>\n",
       "      <td>True</td>\n",
       "      <td>False</td>\n",
       "      <td>6.0</td>\n",
       "      <td>2018</td>\n",
       "      <td>05/04/2018 03:51:04 PM</td>\n",
       "      <td>41.756092</td>\n",
       "      <td>-87.632341</td>\n",
       "    </tr>\n",
       "    <tr>\n",
       "      <th>1115337</th>\n",
       "      <td>11236141</td>\n",
       "      <td>02/21/2018 12:15:00 AM</td>\n",
       "      <td>CRIMINAL DAMAGE</td>\n",
       "      <td>TO PROPERTY</td>\n",
       "      <td>RESIDENCE</td>\n",
       "      <td>False</td>\n",
       "      <td>False</td>\n",
       "      <td>2.0</td>\n",
       "      <td>2018</td>\n",
       "      <td>05/04/2018 03:51:04 PM</td>\n",
       "      <td>41.814166</td>\n",
       "      <td>-87.616723</td>\n",
       "    </tr>\n",
       "    <tr>\n",
       "      <th>1115338</th>\n",
       "      <td>11236178</td>\n",
       "      <td>02/21/2018 12:40:00 AM</td>\n",
       "      <td>BATTERY</td>\n",
       "      <td>AGGRAVATED: HANDGUN</td>\n",
       "      <td>STREET</td>\n",
       "      <td>False</td>\n",
       "      <td>False</td>\n",
       "      <td>17.0</td>\n",
       "      <td>2018</td>\n",
       "      <td>05/04/2018 03:51:04 PM</td>\n",
       "      <td>41.946464</td>\n",
       "      <td>-87.720672</td>\n",
       "    </tr>\n",
       "    <tr>\n",
       "      <th>1115342</th>\n",
       "      <td>11236335</td>\n",
       "      <td>02/21/2018 08:00:00 AM</td>\n",
       "      <td>THEFT</td>\n",
       "      <td>$500 AND UNDER</td>\n",
       "      <td>STREET</td>\n",
       "      <td>False</td>\n",
       "      <td>False</td>\n",
       "      <td>8.0</td>\n",
       "      <td>2018</td>\n",
       "      <td>05/04/2018 03:51:04 PM</td>\n",
       "      <td>41.762338</td>\n",
       "      <td>-87.688075</td>\n",
       "    </tr>\n",
       "    <tr>\n",
       "      <th>1115349</th>\n",
       "      <td>9989009</td>\n",
       "      <td>03/06/2015 06:45:00 PM</td>\n",
       "      <td>THEFT</td>\n",
       "      <td>RETAIL THEFT</td>\n",
       "      <td>OTHER</td>\n",
       "      <td>False</td>\n",
       "      <td>False</td>\n",
       "      <td>8.0</td>\n",
       "      <td>2015</td>\n",
       "      <td>02/10/2018 03:50:01 PM</td>\n",
       "      <td>41.779090</td>\n",
       "      <td>-87.695159</td>\n",
       "    </tr>\n",
       "  </tbody>\n",
       "</table>\n",
       "</div>"
      ],
      "text/plain": [
       "               ID                    Date     Primary Type  \\\n",
       "1115329  11207956  01/18/2018 09:35:00 AM          BATTERY   \n",
       "1115337  11236141  02/21/2018 12:15:00 AM  CRIMINAL DAMAGE   \n",
       "1115338  11236178  02/21/2018 12:40:00 AM          BATTERY   \n",
       "1115342  11236335  02/21/2018 08:00:00 AM            THEFT   \n",
       "1115349   9989009  03/06/2015 06:45:00 PM            THEFT   \n",
       "\n",
       "                     Description Location Description  Arrest  Domestic  \\\n",
       "1115329  DOMESTIC BATTERY SIMPLE               STREET    True     False   \n",
       "1115337              TO PROPERTY            RESIDENCE   False     False   \n",
       "1115338      AGGRAVATED: HANDGUN               STREET   False     False   \n",
       "1115342           $500 AND UNDER               STREET   False     False   \n",
       "1115349             RETAIL THEFT                OTHER   False     False   \n",
       "\n",
       "         District  Year              Updated On   Latitude  Longitude  \n",
       "1115329       6.0  2018  05/04/2018 03:51:04 PM  41.756092 -87.632341  \n",
       "1115337       2.0  2018  05/04/2018 03:51:04 PM  41.814166 -87.616723  \n",
       "1115338      17.0  2018  05/04/2018 03:51:04 PM  41.946464 -87.720672  \n",
       "1115342       8.0  2018  05/04/2018 03:51:04 PM  41.762338 -87.688075  \n",
       "1115349       8.0  2015  02/10/2018 03:50:01 PM  41.779090 -87.695159  "
      ]
     },
     "execution_count": 11,
     "metadata": {},
     "output_type": "execute_result"
    }
   ],
   "source": [
    "#Final dataset\n",
    "crimes.head()"
   ]
  },
  {
   "cell_type": "code",
   "execution_count": 12,
   "metadata": {},
   "outputs": [],
   "source": [
    "#Date column\n",
    "crimes['Date'] = pd.to_datetime(crimes['Date'], format = '%m/%d/%Y %I:%M:%S %p')"
   ]
  },
  {
   "cell_type": "code",
   "execution_count": 13,
   "metadata": {},
   "outputs": [
    {
     "data": {
      "text/html": [
       "<div>\n",
       "<style scoped>\n",
       "    .dataframe tbody tr th:only-of-type {\n",
       "        vertical-align: middle;\n",
       "    }\n",
       "\n",
       "    .dataframe tbody tr th {\n",
       "        vertical-align: top;\n",
       "    }\n",
       "\n",
       "    .dataframe thead th {\n",
       "        text-align: right;\n",
       "    }\n",
       "</style>\n",
       "<table border=\"1\" class=\"dataframe\">\n",
       "  <thead>\n",
       "    <tr style=\"text-align: right;\">\n",
       "      <th></th>\n",
       "      <th>ID</th>\n",
       "      <th>Date</th>\n",
       "      <th>Primary Type</th>\n",
       "      <th>Description</th>\n",
       "      <th>Location Description</th>\n",
       "      <th>Arrest</th>\n",
       "      <th>Domestic</th>\n",
       "      <th>District</th>\n",
       "      <th>Year</th>\n",
       "      <th>Updated On</th>\n",
       "      <th>Latitude</th>\n",
       "      <th>Longitude</th>\n",
       "      <th>Month</th>\n",
       "    </tr>\n",
       "  </thead>\n",
       "  <tbody>\n",
       "    <tr>\n",
       "      <th>1115329</th>\n",
       "      <td>11207956</td>\n",
       "      <td>2018-01-18 09:35:00</td>\n",
       "      <td>BATTERY</td>\n",
       "      <td>DOMESTIC BATTERY SIMPLE</td>\n",
       "      <td>STREET</td>\n",
       "      <td>True</td>\n",
       "      <td>False</td>\n",
       "      <td>6.0</td>\n",
       "      <td>2018</td>\n",
       "      <td>05/04/2018 03:51:04 PM</td>\n",
       "      <td>41.756092</td>\n",
       "      <td>-87.632341</td>\n",
       "      <td>Jan</td>\n",
       "    </tr>\n",
       "    <tr>\n",
       "      <th>1115337</th>\n",
       "      <td>11236141</td>\n",
       "      <td>2018-02-21 00:15:00</td>\n",
       "      <td>CRIMINAL DAMAGE</td>\n",
       "      <td>TO PROPERTY</td>\n",
       "      <td>RESIDENCE</td>\n",
       "      <td>False</td>\n",
       "      <td>False</td>\n",
       "      <td>2.0</td>\n",
       "      <td>2018</td>\n",
       "      <td>05/04/2018 03:51:04 PM</td>\n",
       "      <td>41.814166</td>\n",
       "      <td>-87.616723</td>\n",
       "      <td>Feb</td>\n",
       "    </tr>\n",
       "    <tr>\n",
       "      <th>1115338</th>\n",
       "      <td>11236178</td>\n",
       "      <td>2018-02-21 00:40:00</td>\n",
       "      <td>BATTERY</td>\n",
       "      <td>AGGRAVATED: HANDGUN</td>\n",
       "      <td>STREET</td>\n",
       "      <td>False</td>\n",
       "      <td>False</td>\n",
       "      <td>17.0</td>\n",
       "      <td>2018</td>\n",
       "      <td>05/04/2018 03:51:04 PM</td>\n",
       "      <td>41.946464</td>\n",
       "      <td>-87.720672</td>\n",
       "      <td>Feb</td>\n",
       "    </tr>\n",
       "  </tbody>\n",
       "</table>\n",
       "</div>"
      ],
      "text/plain": [
       "               ID                Date     Primary Type  \\\n",
       "1115329  11207956 2018-01-18 09:35:00          BATTERY   \n",
       "1115337  11236141 2018-02-21 00:15:00  CRIMINAL DAMAGE   \n",
       "1115338  11236178 2018-02-21 00:40:00          BATTERY   \n",
       "\n",
       "                     Description Location Description  Arrest  Domestic  \\\n",
       "1115329  DOMESTIC BATTERY SIMPLE               STREET    True     False   \n",
       "1115337              TO PROPERTY            RESIDENCE   False     False   \n",
       "1115338      AGGRAVATED: HANDGUN               STREET   False     False   \n",
       "\n",
       "         District  Year              Updated On   Latitude  Longitude Month  \n",
       "1115329       6.0  2018  05/04/2018 03:51:04 PM  41.756092 -87.632341   Jan  \n",
       "1115337       2.0  2018  05/04/2018 03:51:04 PM  41.814166 -87.616723   Feb  \n",
       "1115338      17.0  2018  05/04/2018 03:51:04 PM  41.946464 -87.720672   Feb  "
      ]
     },
     "execution_count": 13,
     "metadata": {},
     "output_type": "execute_result"
    }
   ],
   "source": [
    "#Rerteiving Month from Date column\n",
    "import calendar\n",
    "crimes['Month'] = (crimes['Date'].dt.month).apply(lambda x:calendar.month_abbr[x])\n",
    "crimes.head(3)"
   ]
  },
  {
   "cell_type": "code",
   "execution_count": 14,
   "metadata": {},
   "outputs": [
    {
     "data": {
      "text/html": [
       "<div>\n",
       "<style scoped>\n",
       "    .dataframe tbody tr th:only-of-type {\n",
       "        vertical-align: middle;\n",
       "    }\n",
       "\n",
       "    .dataframe tbody tr th {\n",
       "        vertical-align: top;\n",
       "    }\n",
       "\n",
       "    .dataframe thead th {\n",
       "        text-align: right;\n",
       "    }\n",
       "</style>\n",
       "<table border=\"1\" class=\"dataframe\">\n",
       "  <thead>\n",
       "    <tr style=\"text-align: right;\">\n",
       "      <th></th>\n",
       "      <th>ID</th>\n",
       "      <th>Date</th>\n",
       "      <th>Primary Type</th>\n",
       "      <th>Description</th>\n",
       "      <th>Location Description</th>\n",
       "      <th>Arrest</th>\n",
       "      <th>Domestic</th>\n",
       "      <th>District</th>\n",
       "      <th>Year</th>\n",
       "      <th>Updated On</th>\n",
       "      <th>Latitude</th>\n",
       "      <th>Longitude</th>\n",
       "      <th>Month</th>\n",
       "      <th>Weekday</th>\n",
       "    </tr>\n",
       "  </thead>\n",
       "  <tbody>\n",
       "    <tr>\n",
       "      <th>1115329</th>\n",
       "      <td>11207956</td>\n",
       "      <td>2018-01-18 09:35:00</td>\n",
       "      <td>BATTERY</td>\n",
       "      <td>DOMESTIC BATTERY SIMPLE</td>\n",
       "      <td>STREET</td>\n",
       "      <td>True</td>\n",
       "      <td>False</td>\n",
       "      <td>6.0</td>\n",
       "      <td>2018</td>\n",
       "      <td>05/04/2018 03:51:04 PM</td>\n",
       "      <td>41.756092</td>\n",
       "      <td>-87.632341</td>\n",
       "      <td>Jan</td>\n",
       "      <td>Thursday</td>\n",
       "    </tr>\n",
       "    <tr>\n",
       "      <th>1115337</th>\n",
       "      <td>11236141</td>\n",
       "      <td>2018-02-21 00:15:00</td>\n",
       "      <td>CRIMINAL DAMAGE</td>\n",
       "      <td>TO PROPERTY</td>\n",
       "      <td>RESIDENCE</td>\n",
       "      <td>False</td>\n",
       "      <td>False</td>\n",
       "      <td>2.0</td>\n",
       "      <td>2018</td>\n",
       "      <td>05/04/2018 03:51:04 PM</td>\n",
       "      <td>41.814166</td>\n",
       "      <td>-87.616723</td>\n",
       "      <td>Feb</td>\n",
       "      <td>Wednesday</td>\n",
       "    </tr>\n",
       "  </tbody>\n",
       "</table>\n",
       "</div>"
      ],
      "text/plain": [
       "               ID                Date     Primary Type  \\\n",
       "1115329  11207956 2018-01-18 09:35:00          BATTERY   \n",
       "1115337  11236141 2018-02-21 00:15:00  CRIMINAL DAMAGE   \n",
       "\n",
       "                     Description Location Description  Arrest  Domestic  \\\n",
       "1115329  DOMESTIC BATTERY SIMPLE               STREET    True     False   \n",
       "1115337              TO PROPERTY            RESIDENCE   False     False   \n",
       "\n",
       "         District  Year              Updated On   Latitude  Longitude Month  \\\n",
       "1115329       6.0  2018  05/04/2018 03:51:04 PM  41.756092 -87.632341   Jan   \n",
       "1115337       2.0  2018  05/04/2018 03:51:04 PM  41.814166 -87.616723   Feb   \n",
       "\n",
       "           Weekday  \n",
       "1115329   Thursday  \n",
       "1115337  Wednesday  "
      ]
     },
     "execution_count": 14,
     "metadata": {},
     "output_type": "execute_result"
    }
   ],
   "source": [
    "#Retrieving Weekdays from Date column\n",
    "crimes['Weekday'] = crimes['Date'].dt.weekday_name\n",
    "crimes['Weekday'] = pd.Categorical(crimes['Weekday'],\n",
    "            categories = ['Sunday','Monday','Tuesday','Wednesday','Thursday','Friday','Saturday'],ordered = True)\n",
    "crimes.head(2)"
   ]
  },
  {
   "cell_type": "code",
   "execution_count": 15,
   "metadata": {},
   "outputs": [
    {
     "data": {
      "text/html": [
       "<div>\n",
       "<style scoped>\n",
       "    .dataframe tbody tr th:only-of-type {\n",
       "        vertical-align: middle;\n",
       "    }\n",
       "\n",
       "    .dataframe tbody tr th {\n",
       "        vertical-align: top;\n",
       "    }\n",
       "\n",
       "    .dataframe thead th {\n",
       "        text-align: right;\n",
       "    }\n",
       "</style>\n",
       "<table border=\"1\" class=\"dataframe\">\n",
       "  <thead>\n",
       "    <tr style=\"text-align: right;\">\n",
       "      <th></th>\n",
       "      <th>ID</th>\n",
       "      <th>Date</th>\n",
       "      <th>Primary Type</th>\n",
       "      <th>Description</th>\n",
       "      <th>Location Description</th>\n",
       "      <th>Arrest</th>\n",
       "      <th>Domestic</th>\n",
       "      <th>District</th>\n",
       "      <th>Year</th>\n",
       "      <th>Updated On</th>\n",
       "      <th>Latitude</th>\n",
       "      <th>Longitude</th>\n",
       "      <th>Month</th>\n",
       "      <th>Weekday</th>\n",
       "      <th>Hour of Day</th>\n",
       "    </tr>\n",
       "  </thead>\n",
       "  <tbody>\n",
       "    <tr>\n",
       "      <th>1115329</th>\n",
       "      <td>11207956</td>\n",
       "      <td>2018-01-18 09:35:00</td>\n",
       "      <td>BATTERY</td>\n",
       "      <td>DOMESTIC BATTERY SIMPLE</td>\n",
       "      <td>STREET</td>\n",
       "      <td>True</td>\n",
       "      <td>False</td>\n",
       "      <td>6.0</td>\n",
       "      <td>2018</td>\n",
       "      <td>05/04/2018 03:51:04 PM</td>\n",
       "      <td>41.756092</td>\n",
       "      <td>-87.632341</td>\n",
       "      <td>Jan</td>\n",
       "      <td>Thursday</td>\n",
       "      <td>9</td>\n",
       "    </tr>\n",
       "    <tr>\n",
       "      <th>1115337</th>\n",
       "      <td>11236141</td>\n",
       "      <td>2018-02-21 00:15:00</td>\n",
       "      <td>CRIMINAL DAMAGE</td>\n",
       "      <td>TO PROPERTY</td>\n",
       "      <td>RESIDENCE</td>\n",
       "      <td>False</td>\n",
       "      <td>False</td>\n",
       "      <td>2.0</td>\n",
       "      <td>2018</td>\n",
       "      <td>05/04/2018 03:51:04 PM</td>\n",
       "      <td>41.814166</td>\n",
       "      <td>-87.616723</td>\n",
       "      <td>Feb</td>\n",
       "      <td>Wednesday</td>\n",
       "      <td>0</td>\n",
       "    </tr>\n",
       "  </tbody>\n",
       "</table>\n",
       "</div>"
      ],
      "text/plain": [
       "               ID                Date     Primary Type  \\\n",
       "1115329  11207956 2018-01-18 09:35:00          BATTERY   \n",
       "1115337  11236141 2018-02-21 00:15:00  CRIMINAL DAMAGE   \n",
       "\n",
       "                     Description Location Description  Arrest  Domestic  \\\n",
       "1115329  DOMESTIC BATTERY SIMPLE               STREET    True     False   \n",
       "1115337              TO PROPERTY            RESIDENCE   False     False   \n",
       "\n",
       "         District  Year              Updated On   Latitude  Longitude Month  \\\n",
       "1115329       6.0  2018  05/04/2018 03:51:04 PM  41.756092 -87.632341   Jan   \n",
       "1115337       2.0  2018  05/04/2018 03:51:04 PM  41.814166 -87.616723   Feb   \n",
       "\n",
       "           Weekday Hour of Day  \n",
       "1115329   Thursday           9  \n",
       "1115337  Wednesday           0  "
      ]
     },
     "execution_count": 15,
     "metadata": {},
     "output_type": "execute_result"
    }
   ],
   "source": [
    "crimes['Hour of Day'] = crimes['Date'].dt.hour\n",
    "crimes['Hour of Day'] = pd.Categorical(crimes['Hour of Day'],\n",
    "            categories = [0,1,2,3,4,5,6,7,8,9,10,11,12,13,14,15,16,17,18,19,20,21,22,23,24],ordered = True)\n",
    "crimes.head(2)\n",
    "#hour = top_crimes.pivot_table(values ='ID', index = 'Primary Type', columns = top_crimes['Date'].dt.hour, aggfunc = np.size)"
   ]
  },
  {
   "cell_type": "code",
   "execution_count": 16,
   "metadata": {},
   "outputs": [],
   "source": [
    "data_week_dict ={\n",
    "    \"Monday\": 1,\n",
    "    \"Tuesday\": 2,\n",
    "    \"Wednesday\": 3,\n",
    "    \"Thursday\": 4,\n",
    "    \"Friday\": 5,\n",
    "    \"Saturday\": 6,\n",
    "    \"Sunday\": 7\n",
    "}\n",
    "crimes['Weekday'] = crimes['Weekday'].replace(data_week_dict)"
   ]
  },
  {
   "cell_type": "code",
   "execution_count": 17,
   "metadata": {},
   "outputs": [],
   "source": [
    "data_month_dict ={\n",
    "    \"Jan\": 1,\n",
    "    \"Feb\": 2,\n",
    "    \"Mar\": 3,\n",
    "    \"Apr\": 4,\n",
    "    \"May\": 5,\n",
    "    \"Jun\": 6,\n",
    "    \"Jul\": 7,\n",
    "    \"Aug\": 8,\n",
    "    \"Sep\": 9,\n",
    "    \"Oct\": 10,\n",
    "    \"Nov\": 11,\n",
    "    \"Dec\": 12\n",
    "}\n",
    "crimes['Month'] = crimes['Month'].replace(data_month_dict)"
   ]
  },
  {
   "cell_type": "code",
   "execution_count": 18,
   "metadata": {},
   "outputs": [
    {
     "data": {
      "text/html": [
       "<div>\n",
       "<style scoped>\n",
       "    .dataframe tbody tr th:only-of-type {\n",
       "        vertical-align: middle;\n",
       "    }\n",
       "\n",
       "    .dataframe tbody tr th {\n",
       "        vertical-align: top;\n",
       "    }\n",
       "\n",
       "    .dataframe thead th {\n",
       "        text-align: right;\n",
       "    }\n",
       "</style>\n",
       "<table border=\"1\" class=\"dataframe\">\n",
       "  <thead>\n",
       "    <tr style=\"text-align: right;\">\n",
       "      <th></th>\n",
       "      <th>ID</th>\n",
       "      <th>Date</th>\n",
       "      <th>Primary Type</th>\n",
       "      <th>Description</th>\n",
       "      <th>Location Description</th>\n",
       "      <th>Arrest</th>\n",
       "      <th>Domestic</th>\n",
       "      <th>District</th>\n",
       "      <th>Year</th>\n",
       "      <th>Updated On</th>\n",
       "      <th>Latitude</th>\n",
       "      <th>Longitude</th>\n",
       "      <th>Month</th>\n",
       "      <th>Weekday</th>\n",
       "      <th>Hour of Day</th>\n",
       "    </tr>\n",
       "  </thead>\n",
       "  <tbody>\n",
       "    <tr>\n",
       "      <th>1115329</th>\n",
       "      <td>11207956</td>\n",
       "      <td>2018-01-18 09:35:00</td>\n",
       "      <td>BATTERY</td>\n",
       "      <td>DOMESTIC BATTERY SIMPLE</td>\n",
       "      <td>STREET</td>\n",
       "      <td>True</td>\n",
       "      <td>False</td>\n",
       "      <td>6.0</td>\n",
       "      <td>2018</td>\n",
       "      <td>05/04/2018 03:51:04 PM</td>\n",
       "      <td>41.756092</td>\n",
       "      <td>-87.632341</td>\n",
       "      <td>1</td>\n",
       "      <td>4</td>\n",
       "      <td>9</td>\n",
       "    </tr>\n",
       "    <tr>\n",
       "      <th>1115337</th>\n",
       "      <td>11236141</td>\n",
       "      <td>2018-02-21 00:15:00</td>\n",
       "      <td>CRIMINAL DAMAGE</td>\n",
       "      <td>TO PROPERTY</td>\n",
       "      <td>RESIDENCE</td>\n",
       "      <td>False</td>\n",
       "      <td>False</td>\n",
       "      <td>2.0</td>\n",
       "      <td>2018</td>\n",
       "      <td>05/04/2018 03:51:04 PM</td>\n",
       "      <td>41.814166</td>\n",
       "      <td>-87.616723</td>\n",
       "      <td>2</td>\n",
       "      <td>3</td>\n",
       "      <td>0</td>\n",
       "    </tr>\n",
       "    <tr>\n",
       "      <th>1115338</th>\n",
       "      <td>11236178</td>\n",
       "      <td>2018-02-21 00:40:00</td>\n",
       "      <td>BATTERY</td>\n",
       "      <td>AGGRAVATED: HANDGUN</td>\n",
       "      <td>STREET</td>\n",
       "      <td>False</td>\n",
       "      <td>False</td>\n",
       "      <td>17.0</td>\n",
       "      <td>2018</td>\n",
       "      <td>05/04/2018 03:51:04 PM</td>\n",
       "      <td>41.946464</td>\n",
       "      <td>-87.720672</td>\n",
       "      <td>2</td>\n",
       "      <td>3</td>\n",
       "      <td>0</td>\n",
       "    </tr>\n",
       "    <tr>\n",
       "      <th>1115342</th>\n",
       "      <td>11236335</td>\n",
       "      <td>2018-02-21 08:00:00</td>\n",
       "      <td>THEFT</td>\n",
       "      <td>$500 AND UNDER</td>\n",
       "      <td>STREET</td>\n",
       "      <td>False</td>\n",
       "      <td>False</td>\n",
       "      <td>8.0</td>\n",
       "      <td>2018</td>\n",
       "      <td>05/04/2018 03:51:04 PM</td>\n",
       "      <td>41.762338</td>\n",
       "      <td>-87.688075</td>\n",
       "      <td>2</td>\n",
       "      <td>3</td>\n",
       "      <td>8</td>\n",
       "    </tr>\n",
       "    <tr>\n",
       "      <th>1115349</th>\n",
       "      <td>9989009</td>\n",
       "      <td>2015-03-06 18:45:00</td>\n",
       "      <td>THEFT</td>\n",
       "      <td>RETAIL THEFT</td>\n",
       "      <td>OTHER</td>\n",
       "      <td>False</td>\n",
       "      <td>False</td>\n",
       "      <td>8.0</td>\n",
       "      <td>2015</td>\n",
       "      <td>02/10/2018 03:50:01 PM</td>\n",
       "      <td>41.779090</td>\n",
       "      <td>-87.695159</td>\n",
       "      <td>3</td>\n",
       "      <td>5</td>\n",
       "      <td>18</td>\n",
       "    </tr>\n",
       "  </tbody>\n",
       "</table>\n",
       "</div>"
      ],
      "text/plain": [
       "               ID                Date     Primary Type  \\\n",
       "1115329  11207956 2018-01-18 09:35:00          BATTERY   \n",
       "1115337  11236141 2018-02-21 00:15:00  CRIMINAL DAMAGE   \n",
       "1115338  11236178 2018-02-21 00:40:00          BATTERY   \n",
       "1115342  11236335 2018-02-21 08:00:00            THEFT   \n",
       "1115349   9989009 2015-03-06 18:45:00            THEFT   \n",
       "\n",
       "                     Description Location Description  Arrest  Domestic  \\\n",
       "1115329  DOMESTIC BATTERY SIMPLE               STREET    True     False   \n",
       "1115337              TO PROPERTY            RESIDENCE   False     False   \n",
       "1115338      AGGRAVATED: HANDGUN               STREET   False     False   \n",
       "1115342           $500 AND UNDER               STREET   False     False   \n",
       "1115349             RETAIL THEFT                OTHER   False     False   \n",
       "\n",
       "         District  Year              Updated On   Latitude  Longitude  Month  \\\n",
       "1115329       6.0  2018  05/04/2018 03:51:04 PM  41.756092 -87.632341      1   \n",
       "1115337       2.0  2018  05/04/2018 03:51:04 PM  41.814166 -87.616723      2   \n",
       "1115338      17.0  2018  05/04/2018 03:51:04 PM  41.946464 -87.720672      2   \n",
       "1115342       8.0  2018  05/04/2018 03:51:04 PM  41.762338 -87.688075      2   \n",
       "1115349       8.0  2015  02/10/2018 03:50:01 PM  41.779090 -87.695159      3   \n",
       "\n",
       "         Weekday Hour of Day  \n",
       "1115329        4           9  \n",
       "1115337        3           0  \n",
       "1115338        3           0  \n",
       "1115342        3           8  \n",
       "1115349        5          18  "
      ]
     },
     "execution_count": 18,
     "metadata": {},
     "output_type": "execute_result"
    }
   ],
   "source": [
    "crimes.head()"
   ]
  },
  {
   "cell_type": "code",
   "execution_count": 19,
   "metadata": {},
   "outputs": [
    {
     "name": "stdout",
     "output_type": "stream",
     "text": [
      "['BATTERY' 'CRIMINAL DAMAGE' 'THEFT' 'ASSAULT' 'DECEPTIVE PRACTICE']\n"
     ]
    }
   ],
   "source": [
    "target = crimes['Primary Type'].unique()\n",
    "print(target)"
   ]
  },
  {
   "cell_type": "code",
   "execution_count": 20,
   "metadata": {},
   "outputs": [],
   "source": [
    "data_dict = {}\n",
    "count = 1\n",
    "for i in target:\n",
    "    data_dict[i] = count\n",
    "    count = count + 1\n",
    "crimes['Primary Type'] = crimes['Primary Type'].replace(data_dict)"
   ]
  },
  {
   "cell_type": "code",
   "execution_count": 21,
   "metadata": {},
   "outputs": [
    {
     "data": {
      "text/html": [
       "<div>\n",
       "<style scoped>\n",
       "    .dataframe tbody tr th:only-of-type {\n",
       "        vertical-align: middle;\n",
       "    }\n",
       "\n",
       "    .dataframe tbody tr th {\n",
       "        vertical-align: top;\n",
       "    }\n",
       "\n",
       "    .dataframe thead th {\n",
       "        text-align: right;\n",
       "    }\n",
       "</style>\n",
       "<table border=\"1\" class=\"dataframe\">\n",
       "  <thead>\n",
       "    <tr style=\"text-align: right;\">\n",
       "      <th></th>\n",
       "      <th>ID</th>\n",
       "      <th>Date</th>\n",
       "      <th>Primary Type</th>\n",
       "      <th>Description</th>\n",
       "      <th>Location Description</th>\n",
       "      <th>Arrest</th>\n",
       "      <th>Domestic</th>\n",
       "      <th>District</th>\n",
       "      <th>Year</th>\n",
       "      <th>Updated On</th>\n",
       "      <th>Latitude</th>\n",
       "      <th>Longitude</th>\n",
       "      <th>Month</th>\n",
       "      <th>Weekday</th>\n",
       "      <th>Hour of Day</th>\n",
       "    </tr>\n",
       "  </thead>\n",
       "  <tbody>\n",
       "    <tr>\n",
       "      <th>1115329</th>\n",
       "      <td>11207956</td>\n",
       "      <td>2018-01-18 09:35:00</td>\n",
       "      <td>1</td>\n",
       "      <td>DOMESTIC BATTERY SIMPLE</td>\n",
       "      <td>STREET</td>\n",
       "      <td>True</td>\n",
       "      <td>False</td>\n",
       "      <td>6.0</td>\n",
       "      <td>2018</td>\n",
       "      <td>05/04/2018 03:51:04 PM</td>\n",
       "      <td>41.756092</td>\n",
       "      <td>-87.632341</td>\n",
       "      <td>1</td>\n",
       "      <td>4</td>\n",
       "      <td>9</td>\n",
       "    </tr>\n",
       "    <tr>\n",
       "      <th>1115337</th>\n",
       "      <td>11236141</td>\n",
       "      <td>2018-02-21 00:15:00</td>\n",
       "      <td>2</td>\n",
       "      <td>TO PROPERTY</td>\n",
       "      <td>RESIDENCE</td>\n",
       "      <td>False</td>\n",
       "      <td>False</td>\n",
       "      <td>2.0</td>\n",
       "      <td>2018</td>\n",
       "      <td>05/04/2018 03:51:04 PM</td>\n",
       "      <td>41.814166</td>\n",
       "      <td>-87.616723</td>\n",
       "      <td>2</td>\n",
       "      <td>3</td>\n",
       "      <td>0</td>\n",
       "    </tr>\n",
       "    <tr>\n",
       "      <th>1115338</th>\n",
       "      <td>11236178</td>\n",
       "      <td>2018-02-21 00:40:00</td>\n",
       "      <td>1</td>\n",
       "      <td>AGGRAVATED: HANDGUN</td>\n",
       "      <td>STREET</td>\n",
       "      <td>False</td>\n",
       "      <td>False</td>\n",
       "      <td>17.0</td>\n",
       "      <td>2018</td>\n",
       "      <td>05/04/2018 03:51:04 PM</td>\n",
       "      <td>41.946464</td>\n",
       "      <td>-87.720672</td>\n",
       "      <td>2</td>\n",
       "      <td>3</td>\n",
       "      <td>0</td>\n",
       "    </tr>\n",
       "    <tr>\n",
       "      <th>1115342</th>\n",
       "      <td>11236335</td>\n",
       "      <td>2018-02-21 08:00:00</td>\n",
       "      <td>3</td>\n",
       "      <td>$500 AND UNDER</td>\n",
       "      <td>STREET</td>\n",
       "      <td>False</td>\n",
       "      <td>False</td>\n",
       "      <td>8.0</td>\n",
       "      <td>2018</td>\n",
       "      <td>05/04/2018 03:51:04 PM</td>\n",
       "      <td>41.762338</td>\n",
       "      <td>-87.688075</td>\n",
       "      <td>2</td>\n",
       "      <td>3</td>\n",
       "      <td>8</td>\n",
       "    </tr>\n",
       "    <tr>\n",
       "      <th>1115349</th>\n",
       "      <td>9989009</td>\n",
       "      <td>2015-03-06 18:45:00</td>\n",
       "      <td>3</td>\n",
       "      <td>RETAIL THEFT</td>\n",
       "      <td>OTHER</td>\n",
       "      <td>False</td>\n",
       "      <td>False</td>\n",
       "      <td>8.0</td>\n",
       "      <td>2015</td>\n",
       "      <td>02/10/2018 03:50:01 PM</td>\n",
       "      <td>41.779090</td>\n",
       "      <td>-87.695159</td>\n",
       "      <td>3</td>\n",
       "      <td>5</td>\n",
       "      <td>18</td>\n",
       "    </tr>\n",
       "  </tbody>\n",
       "</table>\n",
       "</div>"
      ],
      "text/plain": [
       "               ID                Date  Primary Type              Description  \\\n",
       "1115329  11207956 2018-01-18 09:35:00             1  DOMESTIC BATTERY SIMPLE   \n",
       "1115337  11236141 2018-02-21 00:15:00             2              TO PROPERTY   \n",
       "1115338  11236178 2018-02-21 00:40:00             1      AGGRAVATED: HANDGUN   \n",
       "1115342  11236335 2018-02-21 08:00:00             3           $500 AND UNDER   \n",
       "1115349   9989009 2015-03-06 18:45:00             3             RETAIL THEFT   \n",
       "\n",
       "        Location Description  Arrest  Domestic  District  Year  \\\n",
       "1115329               STREET    True     False       6.0  2018   \n",
       "1115337            RESIDENCE   False     False       2.0  2018   \n",
       "1115338               STREET   False     False      17.0  2018   \n",
       "1115342               STREET   False     False       8.0  2018   \n",
       "1115349                OTHER   False     False       8.0  2015   \n",
       "\n",
       "                     Updated On   Latitude  Longitude  Month  Weekday  \\\n",
       "1115329  05/04/2018 03:51:04 PM  41.756092 -87.632341      1        4   \n",
       "1115337  05/04/2018 03:51:04 PM  41.814166 -87.616723      2        3   \n",
       "1115338  05/04/2018 03:51:04 PM  41.946464 -87.720672      2        3   \n",
       "1115342  05/04/2018 03:51:04 PM  41.762338 -87.688075      2        3   \n",
       "1115349  02/10/2018 03:50:01 PM  41.779090 -87.695159      3        5   \n",
       "\n",
       "        Hour of Day  \n",
       "1115329           9  \n",
       "1115337           0  \n",
       "1115338           0  \n",
       "1115342           8  \n",
       "1115349          18  "
      ]
     },
     "execution_count": 21,
     "metadata": {},
     "output_type": "execute_result"
    }
   ],
   "source": [
    "crimes.head()"
   ]
  },
  {
   "cell_type": "code",
   "execution_count": 22,
   "metadata": {},
   "outputs": [],
   "source": [
    "crimes = crimes.drop (['ID','Domestic','Updated On','Arrest'], axis = 1)\n",
    "#df.drop(['B', 'C'], axis=1)"
   ]
  },
  {
   "cell_type": "code",
   "execution_count": 23,
   "metadata": {},
   "outputs": [],
   "source": [
    "target_col = pd.DataFrame(crimes['Primary Type'])"
   ]
  },
  {
   "cell_type": "code",
   "execution_count": 24,
   "metadata": {},
   "outputs": [],
   "source": [
    "crimes = crimes.drop(['Primary Type','Description','Date','District'], axis = 1)"
   ]
  },
  {
   "cell_type": "code",
   "execution_count": 25,
   "metadata": {},
   "outputs": [
    {
     "data": {
      "text/html": [
       "<div>\n",
       "<style scoped>\n",
       "    .dataframe tbody tr th:only-of-type {\n",
       "        vertical-align: middle;\n",
       "    }\n",
       "\n",
       "    .dataframe tbody tr th {\n",
       "        vertical-align: top;\n",
       "    }\n",
       "\n",
       "    .dataframe thead th {\n",
       "        text-align: right;\n",
       "    }\n",
       "</style>\n",
       "<table border=\"1\" class=\"dataframe\">\n",
       "  <thead>\n",
       "    <tr style=\"text-align: right;\">\n",
       "      <th></th>\n",
       "      <th>Location Description</th>\n",
       "      <th>Year</th>\n",
       "      <th>Latitude</th>\n",
       "      <th>Longitude</th>\n",
       "      <th>Month</th>\n",
       "      <th>Weekday</th>\n",
       "      <th>Hour of Day</th>\n",
       "    </tr>\n",
       "  </thead>\n",
       "  <tbody>\n",
       "    <tr>\n",
       "      <th>1115329</th>\n",
       "      <td>STREET</td>\n",
       "      <td>2018</td>\n",
       "      <td>41.756092</td>\n",
       "      <td>-87.632341</td>\n",
       "      <td>1</td>\n",
       "      <td>4</td>\n",
       "      <td>9</td>\n",
       "    </tr>\n",
       "    <tr>\n",
       "      <th>1115337</th>\n",
       "      <td>RESIDENCE</td>\n",
       "      <td>2018</td>\n",
       "      <td>41.814166</td>\n",
       "      <td>-87.616723</td>\n",
       "      <td>2</td>\n",
       "      <td>3</td>\n",
       "      <td>0</td>\n",
       "    </tr>\n",
       "    <tr>\n",
       "      <th>1115338</th>\n",
       "      <td>STREET</td>\n",
       "      <td>2018</td>\n",
       "      <td>41.946464</td>\n",
       "      <td>-87.720672</td>\n",
       "      <td>2</td>\n",
       "      <td>3</td>\n",
       "      <td>0</td>\n",
       "    </tr>\n",
       "    <tr>\n",
       "      <th>1115342</th>\n",
       "      <td>STREET</td>\n",
       "      <td>2018</td>\n",
       "      <td>41.762338</td>\n",
       "      <td>-87.688075</td>\n",
       "      <td>2</td>\n",
       "      <td>3</td>\n",
       "      <td>8</td>\n",
       "    </tr>\n",
       "    <tr>\n",
       "      <th>1115349</th>\n",
       "      <td>OTHER</td>\n",
       "      <td>2015</td>\n",
       "      <td>41.779090</td>\n",
       "      <td>-87.695159</td>\n",
       "      <td>3</td>\n",
       "      <td>5</td>\n",
       "      <td>18</td>\n",
       "    </tr>\n",
       "  </tbody>\n",
       "</table>\n",
       "</div>"
      ],
      "text/plain": [
       "        Location Description  Year   Latitude  Longitude  Month  Weekday  \\\n",
       "1115329               STREET  2018  41.756092 -87.632341      1        4   \n",
       "1115337            RESIDENCE  2018  41.814166 -87.616723      2        3   \n",
       "1115338               STREET  2018  41.946464 -87.720672      2        3   \n",
       "1115342               STREET  2018  41.762338 -87.688075      2        3   \n",
       "1115349                OTHER  2015  41.779090 -87.695159      3        5   \n",
       "\n",
       "        Hour of Day  \n",
       "1115329           9  \n",
       "1115337           0  \n",
       "1115338           0  \n",
       "1115342           8  \n",
       "1115349          18  "
      ]
     },
     "execution_count": 25,
     "metadata": {},
     "output_type": "execute_result"
    }
   ],
   "source": [
    "crimes.head()"
   ]
  },
  {
   "cell_type": "code",
   "execution_count": 26,
   "metadata": {},
   "outputs": [
    {
     "data": {
      "text/plain": [
       "Location Description      object\n",
       "Year                       int64\n",
       "Latitude                 float64\n",
       "Longitude                float64\n",
       "Month                      int64\n",
       "Weekday                    int64\n",
       "Hour of Day             category\n",
       "dtype: object"
      ]
     },
     "execution_count": 26,
     "metadata": {},
     "output_type": "execute_result"
    }
   ],
   "source": [
    "crimes.dtypes"
   ]
  },
  {
   "cell_type": "code",
   "execution_count": 27,
   "metadata": {},
   "outputs": [],
   "source": [
    "from sklearn.preprocessing import LabelEncoder\n",
    "le = LabelEncoder()\n",
    "crimes[\"Location Description\"] = le.fit_transform(crimes[\"Location Description\"])\n",
    "#crimes['Hour of Day'] = le.fit_transform(crimes['Hour of Day'])"
   ]
  },
  {
   "cell_type": "code",
   "execution_count": 28,
   "metadata": {},
   "outputs": [],
   "source": [
    "X=crimes\n",
    "y=target_col"
   ]
  },
  {
   "cell_type": "code",
   "execution_count": 29,
   "metadata": {},
   "outputs": [],
   "source": [
    "from sklearn.model_selection import train_test_split\n",
    "X_train, X_test, y_train, y_test = train_test_split(crimes, target_col, test_size=0.33, random_state=42)"
   ]
  },
  {
   "cell_type": "code",
   "execution_count": 30,
   "metadata": {},
   "outputs": [
    {
     "data": {
      "text/html": [
       "<div>\n",
       "<style scoped>\n",
       "    .dataframe tbody tr th:only-of-type {\n",
       "        vertical-align: middle;\n",
       "    }\n",
       "\n",
       "    .dataframe tbody tr th {\n",
       "        vertical-align: top;\n",
       "    }\n",
       "\n",
       "    .dataframe thead th {\n",
       "        text-align: right;\n",
       "    }\n",
       "</style>\n",
       "<table border=\"1\" class=\"dataframe\">\n",
       "  <thead>\n",
       "    <tr style=\"text-align: right;\">\n",
       "      <th></th>\n",
       "      <th>Location Description</th>\n",
       "      <th>Year</th>\n",
       "      <th>Latitude</th>\n",
       "      <th>Longitude</th>\n",
       "      <th>Month</th>\n",
       "      <th>Weekday</th>\n",
       "      <th>Hour of Day</th>\n",
       "    </tr>\n",
       "  </thead>\n",
       "  <tbody>\n",
       "    <tr>\n",
       "      <th>1115329</th>\n",
       "      <td>95</td>\n",
       "      <td>2018</td>\n",
       "      <td>41.756092</td>\n",
       "      <td>-87.632341</td>\n",
       "      <td>1</td>\n",
       "      <td>4</td>\n",
       "      <td>9</td>\n",
       "    </tr>\n",
       "    <tr>\n",
       "      <th>1115337</th>\n",
       "      <td>82</td>\n",
       "      <td>2018</td>\n",
       "      <td>41.814166</td>\n",
       "      <td>-87.616723</td>\n",
       "      <td>2</td>\n",
       "      <td>3</td>\n",
       "      <td>0</td>\n",
       "    </tr>\n",
       "    <tr>\n",
       "      <th>1115338</th>\n",
       "      <td>95</td>\n",
       "      <td>2018</td>\n",
       "      <td>41.946464</td>\n",
       "      <td>-87.720672</td>\n",
       "      <td>2</td>\n",
       "      <td>3</td>\n",
       "      <td>0</td>\n",
       "    </tr>\n",
       "    <tr>\n",
       "      <th>1115342</th>\n",
       "      <td>95</td>\n",
       "      <td>2018</td>\n",
       "      <td>41.762338</td>\n",
       "      <td>-87.688075</td>\n",
       "      <td>2</td>\n",
       "      <td>3</td>\n",
       "      <td>8</td>\n",
       "    </tr>\n",
       "    <tr>\n",
       "      <th>1115349</th>\n",
       "      <td>74</td>\n",
       "      <td>2015</td>\n",
       "      <td>41.779090</td>\n",
       "      <td>-87.695159</td>\n",
       "      <td>3</td>\n",
       "      <td>5</td>\n",
       "      <td>18</td>\n",
       "    </tr>\n",
       "  </tbody>\n",
       "</table>\n",
       "</div>"
      ],
      "text/plain": [
       "         Location Description  Year   Latitude  Longitude  Month  Weekday  \\\n",
       "1115329                    95  2018  41.756092 -87.632341      1        4   \n",
       "1115337                    82  2018  41.814166 -87.616723      2        3   \n",
       "1115338                    95  2018  41.946464 -87.720672      2        3   \n",
       "1115342                    95  2018  41.762338 -87.688075      2        3   \n",
       "1115349                    74  2015  41.779090 -87.695159      3        5   \n",
       "\n",
       "        Hour of Day  \n",
       "1115329           9  \n",
       "1115337           0  \n",
       "1115338           0  \n",
       "1115342           8  \n",
       "1115349          18  "
      ]
     },
     "execution_count": 30,
     "metadata": {},
     "output_type": "execute_result"
    }
   ],
   "source": [
    "crimes.head()"
   ]
  },
  {
   "cell_type": "code",
   "execution_count": 31,
   "metadata": {},
   "outputs": [
    {
     "name": "stderr",
     "output_type": "stream",
     "text": [
      "C:\\Users\\renug\\Anaconda3\\lib\\site-packages\\sklearn\\utils\\validation.py:761: DataConversionWarning: A column-vector y was passed when a 1d array was expected. Please change the shape of y to (n_samples, ), for example using ravel().\n",
      "  y = column_or_1d(y, warn=True)\n"
     ]
    },
    {
     "name": "stdout",
     "output_type": "stream",
     "text": [
      "(589379, 7) (589379,)\n"
     ]
    }
   ],
   "source": [
    "from imblearn.over_sampling import SMOTE\n",
    "#Over-sampling: SMOTE\n",
    "#SMOTE (Synthetic Minority Oversampling TEchnique) consists of synthesizing elements for the minority class, \n",
    "#based on those that already exist. It works randomly picking a point from the minority class and computing \n",
    "#the k-nearest neighbors for this point.The synthetic points are added between the chosen point and its neighbors.\n",
    "#We'll use ratio='minority' to resample the minority class.\n",
    "smote = SMOTE('minority')\n",
    "\n",
    "X_sm, y_sm = smote.fit_sample(X_train, y_train)\n",
    "print(X_sm.shape, y_sm.shape)"
   ]
  },
  {
   "cell_type": "markdown",
   "metadata": {},
   "source": [
    "# Logistic Regression"
   ]
  },
  {
   "cell_type": "code",
   "execution_count": 32,
   "metadata": {},
   "outputs": [
    {
     "name": "stderr",
     "output_type": "stream",
     "text": [
      "C:\\Users\\renug\\Anaconda3\\lib\\site-packages\\sklearn\\linear_model\\logistic.py:433: FutureWarning: Default solver will be changed to 'lbfgs' in 0.22. Specify a solver to silence this warning.\n",
      "  FutureWarning)\n",
      "C:\\Users\\renug\\Anaconda3\\lib\\site-packages\\sklearn\\utils\\validation.py:761: DataConversionWarning: A column-vector y was passed when a 1d array was expected. Please change the shape of y to (n_samples, ), for example using ravel().\n",
      "  y = column_or_1d(y, warn=True)\n",
      "C:\\Users\\renug\\Anaconda3\\lib\\site-packages\\sklearn\\linear_model\\logistic.py:460: FutureWarning: Default multi_class will be changed to 'auto' in 0.22. Specify the multi_class option to silence this warning.\n",
      "  \"this warning.\", FutureWarning)\n"
     ]
    }
   ],
   "source": [
    "from sklearn.linear_model import LogisticRegression\n",
    "log = LogisticRegression()\n",
    "fit = log.fit(X_train,y_train)"
   ]
  },
  {
   "cell_type": "code",
   "execution_count": 33,
   "metadata": {},
   "outputs": [
    {
     "name": "stdout",
     "output_type": "stream",
     "text": [
      "1.4568256343236934\n",
      "Accuracy of logistic regression classifier on test set: 38.62\n"
     ]
    }
   ],
   "source": [
    "from sklearn.metrics import log_loss\n",
    "\n",
    "y_pred = log.predict(X_test)\n",
    "logistic_probs = log.predict_proba(X_test)\n",
    "score = log_loss(y_test, logistic_probs)\n",
    "print(score)\n",
    "print('Accuracy of logistic regression classifier on test set: {:.2f}'.format(log.score(X_test, y_test)*100))"
   ]
  },
  {
   "cell_type": "markdown",
   "metadata": {},
   "source": [
    "# Decision Tree classifier - Gini"
   ]
  },
  {
   "cell_type": "code",
   "execution_count": 35,
   "metadata": {},
   "outputs": [
    {
     "data": {
      "text/plain": [
       "DecisionTreeClassifier(class_weight=None, criterion='gini', max_depth=3,\n",
       "            max_features=None, max_leaf_nodes=None,\n",
       "            min_impurity_decrease=0.0, min_impurity_split=None,\n",
       "            min_samples_leaf=1, min_samples_split=100,\n",
       "            min_weight_fraction_leaf=0.0, presort=False, random_state=100,\n",
       "            splitter='best')"
      ]
     },
     "execution_count": 35,
     "metadata": {},
     "output_type": "execute_result"
    }
   ],
   "source": [
    "from sklearn.tree import DecisionTreeClassifier \n",
    "dtree_gini = DecisionTreeClassifier(criterion = \"gini\", random_state = 100,\n",
    "                               max_depth=3, min_samples_split=100)\n",
    "dtree_gini.fit(X_train, y_train)\n"
   ]
  },
  {
   "cell_type": "code",
   "execution_count": 36,
   "metadata": {},
   "outputs": [
    {
     "name": "stdout",
     "output_type": "stream",
     "text": [
      "1.3997107713987127\n",
      "Accuracy is  44.60109133552293\n"
     ]
    }
   ],
   "source": [
    "from sklearn.metrics import accuracy_score\n",
    "\n",
    "y_pred = dtree_gini.predict(X_test)\n",
    "dtree_probs = dtree_gini.predict_proba(X_test)\n",
    "score = log_loss(y_test, dtree_probs)\n",
    "print(score)\n",
    "\n",
    "print (\"Accuracy is \", accuracy_score(y_test,y_pred)*100)"
   ]
  },
  {
   "cell_type": "markdown",
   "metadata": {},
   "source": [
    "# Decision Tree Classifier - Entropy"
   ]
  },
  {
   "cell_type": "code",
   "execution_count": 37,
   "metadata": {},
   "outputs": [
    {
     "data": {
      "text/plain": [
       "DecisionTreeClassifier(class_weight=None, criterion='entropy', max_depth=3,\n",
       "            max_features=None, max_leaf_nodes=None,\n",
       "            min_impurity_decrease=0.0, min_impurity_split=None,\n",
       "            min_samples_leaf=1, min_samples_split=150,\n",
       "            min_weight_fraction_leaf=0.0, presort=False, random_state=100,\n",
       "            splitter='best')"
      ]
     },
     "execution_count": 37,
     "metadata": {},
     "output_type": "execute_result"
    }
   ],
   "source": [
    "dtree_entropy = DecisionTreeClassifier(criterion = \"entropy\", random_state = 100,max_depth=3, min_samples_split=150)\n",
    "dtree_entropy.fit(X_train, y_train)"
   ]
  },
  {
   "cell_type": "code",
   "execution_count": 38,
   "metadata": {},
   "outputs": [
    {
     "name": "stdout",
     "output_type": "stream",
     "text": [
      "1.3922002729953593\n"
     ]
    }
   ],
   "source": [
    "y_pred_en = dtree_entropy.predict(X_test)\n",
    "dtree_ent_probs = dtree_entropy.predict_proba(X_test)\n",
    "score = log_loss(y_test, dtree_ent_probs)\n",
    "print(score)\n"
   ]
  },
  {
   "cell_type": "code",
   "execution_count": 39,
   "metadata": {},
   "outputs": [
    {
     "name": "stdout",
     "output_type": "stream",
     "text": [
      "Accuracy is  43.37907249462338\n"
     ]
    }
   ],
   "source": [
    "print(\"Accuracy is \", accuracy_score(y_test,y_pred_en)*100)"
   ]
  },
  {
   "cell_type": "markdown",
   "metadata": {},
   "source": [
    "# Random Forest"
   ]
  },
  {
   "cell_type": "code",
   "execution_count": 40,
   "metadata": {},
   "outputs": [
    {
     "name": "stderr",
     "output_type": "stream",
     "text": [
      "C:\\Users\\renug\\Anaconda3\\lib\\site-packages\\ipykernel_launcher.py:7: DataConversionWarning: A column-vector y was passed when a 1d array was expected. Please change the shape of y to (n_samples,), for example using ravel().\n",
      "  import sys\n"
     ]
    },
    {
     "name": "stdout",
     "output_type": "stream",
     "text": [
      "Accuracy is  48.106606431177056\n",
      "Log Loss: 1.579217138195\n",
      "Classification report:               precision    recall  f1-score   support\n",
      "\n",
      "           1       0.61      0.47      0.53     85095\n",
      "           2       0.22      0.35      0.27     24555\n",
      "           3       0.68      0.54      0.60    101789\n",
      "           4       0.05      0.22      0.08      5936\n",
      "           5       0.30      0.46      0.36     13718\n",
      "\n",
      "   micro avg       0.48      0.48      0.48    231093\n",
      "   macro avg       0.37      0.41      0.37    231093\n",
      "weighted avg       0.57      0.48      0.51    231093\n",
      "\n"
     ]
    },
    {
     "data": {
      "image/png": "[encoded data removed]",
      "text/plain": [
       "<Figure size 432x288 with 1 Axes>"
      ]
     },
     "metadata": {
      "needs_background": "light"
     },
     "output_type": "display_data"
    }
   ],
   "source": [
    "from sklearn.ensemble import RandomForestClassifier\n",
    "from sklearn import metrics\n",
    "\n",
    "rf = RandomForestClassifier(n_estimators=50, random_state=0)\n",
    "#visualize_classifier(model, X, y)\n",
    "\n",
    "rf.fit(X_train, y_train)\n",
    "ypred = rf.predict(X_test)\n",
    "print(\"Accuracy is \", accuracy_score(y_test,ypred)*100)\n",
    "\n",
    "rf_probs = rf.predict_proba(X_test)\n",
    "score = log_loss(y_test, rf_probs)\n",
    "print(\"Log Loss:\",score)\n",
    "\n",
    "print(\"Classification report:\",metrics.classification_report(ypred, y_test))\n",
    "\n",
    "mat = metrics.confusion_matrix(y_test, ypred)\n",
    "sns.heatmap(mat.T, square=True, annot=True, fmt='d', cbar=False)\n",
    "plt.xlabel('true label')\n",
    "plt.ylabel('predicted label');"
   ]
  },
  {
   "cell_type": "markdown",
   "metadata": {},
   "source": [
    "# KNN"
   ]
  },
  {
   "cell_type": "code",
   "execution_count": 41,
   "metadata": {},
   "outputs": [
    {
     "name": "stderr",
     "output_type": "stream",
     "text": [
      "C:\\Users\\renug\\Anaconda3\\lib\\site-packages\\ipykernel_launcher.py:4: DataConversionWarning: A column-vector y was passed when a 1d array was expected. Please change the shape of y to (n_samples, ), for example using ravel().\n",
      "  after removing the cwd from sys.path.\n"
     ]
    },
    {
     "name": "stdout",
     "output_type": "stream",
     "text": [
      "Accuracy: 0.460606768703509\n",
      "Log Loss: 3.0049433659571827\n"
     ]
    }
   ],
   "source": [
    "from sklearn.neighbors import KNeighborsClassifier\n",
    "\n",
    "knn = KNeighborsClassifier(n_neighbors=15)\n",
    "knn.fit(X_train,y_train)\n",
    "knn_pred = knn.predict(X_test)\n",
    "\n",
    "accuracy = accuracy_score(y_test,knn_pred)\n",
    "print(\"Accuracy:\",accuracy)\n",
    "\n",
    "knn_probs = knn.predict_proba(X_test)\n",
    "score = log_loss(y_test, knn_probs)\n",
    "print(\"Log Loss:\",score)"
   ]
  },
  {
   "cell_type": "markdown",
   "metadata": {},
   "source": [
    "# Gaussian Naive Bayes"
   ]
  },
  {
   "cell_type": "code",
   "execution_count": 42,
   "metadata": {},
   "outputs": [
    {
     "name": "stderr",
     "output_type": "stream",
     "text": [
      "C:\\Users\\renug\\Anaconda3\\lib\\site-packages\\sklearn\\utils\\validation.py:761: DataConversionWarning: A column-vector y was passed when a 1d array was expected. Please change the shape of y to (n_samples, ), for example using ravel().\n",
      "  y = column_or_1d(y, warn=True)\n"
     ]
    },
    {
     "name": "stdout",
     "output_type": "stream",
     "text": [
      "Accuracy: 0.39586659916137656\n",
      "Log Loss: 1.438615013942363\n"
     ]
    }
   ],
   "source": [
    "from sklearn.naive_bayes import GaussianNB\n",
    "\n",
    "gnb = GaussianNB()\n",
    "gnb.fit(X_train, y_train)\n",
    "gnb_pred = gnb.predict(X_test)\n",
    "accuracy = accuracy_score(y_test, gnb_pred)\n",
    "print(\"Accuracy:\",accuracy)\n",
    "\n",
    "gnb_probs = gnb.predict_proba(X_test)\n",
    "score = log_loss(y_test, gnb_probs)\n",
    "print(\"Log Loss:\",score)"
   ]
  },
  {
   "cell_type": "markdown",
   "metadata": {},
   "source": [
    "# Adaboost classifier"
   ]
  },
  {
   "cell_type": "code",
   "execution_count": 43,
   "metadata": {},
   "outputs": [
    {
     "name": "stderr",
     "output_type": "stream",
     "text": [
      "C:\\Users\\renug\\Anaconda3\\lib\\site-packages\\sklearn\\utils\\validation.py:761: DataConversionWarning: A column-vector y was passed when a 1d array was expected. Please change the shape of y to (n_samples, ), for example using ravel().\n",
      "  y = column_or_1d(y, warn=True)\n"
     ]
    },
    {
     "name": "stdout",
     "output_type": "stream",
     "text": [
      "Accuracy: 0.4979640231421982\n",
      "Log Loss: 1.6000320200003166\n"
     ]
    }
   ],
   "source": [
    "from sklearn.ensemble import AdaBoostClassifier\n",
    "\n",
    "adbc = AdaBoostClassifier(n_estimators=100,learning_rate=1,base_estimator=dtree_gini)\n",
    "adbc.fit(X_train, y_train)\n",
    "adbc_pred = adbc.predict(X_test)\n",
    "accuracy = accuracy_score(y_test, adbc_pred)\n",
    "print(\"Accuracy:\",accuracy)\n",
    "\n",
    "adbc_probs = adbc.predict_proba(X_test)\n",
    "score = log_loss(y_test, adbc_probs)\n",
    "print(\"Log Loss:\",score)\n"
   ]
  },
  {
   "cell_type": "code",
   "execution_count": null,
   "metadata": {},
   "outputs": [],
   "source": []
  }
 ],
 "metadata": {
  "kernelspec": {
   "display_name": "Python 3",
   "language": "python",
   "name": "python3"
  },
  "language_info": {
   "codemirror_mode": {
    "name": "ipython",
    "version": 3
   },
   "file_extension": ".py",
   "mimetype": "text/x-python",
   "name": "python",
   "nbconvert_exporter": "python",
   "pygments_lexer": "ipython3",
   "version": "3.7.0"
  }
 },
 "nbformat": 4,
 "nbformat_minor": 2
}
